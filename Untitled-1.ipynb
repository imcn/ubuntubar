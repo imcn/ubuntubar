{
 "cells": [
  {
   "cell_type": "code",
   "execution_count": null,
   "metadata": {},
   "outputs": [],
   "source": [
    "# 导入模块\n",
    "import pandas as pd\n",
    "import os\n",
    "\n",
    "# 读取单个文件\n",
    "class FileProcessor:\n",
    "    def __init__(self, file_path):\n",
    "        self.file_path = file_path\n",
    "        self.file_type = file_path.split('.')[-1]\n",
    "        \n",
    "    def process_excel(self):\n",
    "        data = pd.read_excel(self.file_path)\n",
    "        return data\n",
    "    \n",
    "    # 定义了一个名为process_csv的函数，它接受一个文件路径和一个编码列表作为参数。\n",
    "    # 然后，我们遍历编码列表，尝试使用每个编码读取CSV文件。\n",
    "    # 如果读取成功，我们返回读取到的数据。如果所有编码都尝试失败，我们抛出一个异常。\n",
    "    def process_csv(self):\n",
    "        encodings=['utf-8','GBK']\n",
    "        for encoding in encodings:\n",
    "            try:\n",
    "                data = pd.read_csv(self.file_path, encoding=encoding)\n",
    "                return data\n",
    "            except UnicodeDecodeError:\n",
    "                continue\n",
    "        raise Exception('无法使用给定的编码列表解码文件')\n",
    "      \n",
    "\n",
    "# 此函数用于判断文件格式        \n",
    "    def process_file(self):\n",
    "        if self.file_type == 'xlsx':\n",
    "            self.process_excel()\n",
    "        elif self.file_type == 'csv':\n",
    "            self.process_csv()"
   ]
  },
  {
   "cell_type": "code",
   "execution_count": null,
   "metadata": {},
   "outputs": [],
   "source": [
    "file = FileProcessor('e:\\\\年度医保基础数据\\\\2023年\\\\待遇结算信息查询20230606211625505_5月职工.csv')\n",
    "data = file.process_file()"
   ]
  },
  {
   "cell_type": "code",
   "execution_count": null,
   "metadata": {},
   "outputs": [],
   "source": [
    "def read_csv_with_encoding(file_path, encodings=['utf-8', 'gbk']):\n",
    "    for encoding in encodings:\n",
    "        try:\n",
    "            df = pd.read_csv(file_path, encoding=encoding)\n",
    "            return df\n",
    "        except UnicodeDecodeError:\n",
    "            continue\n",
    "    raise Exception(\"无法使用给定的编码列表解码文件\")\n",
    "\n",
    "file_path = \"e:\\\\年度医保基础数据\\\\2023年\\\\待遇结算信息查询20230606211625505_5月职工.csv\"\n",
    "df = read_csv_with_encoding(file_path)"
   ]
  },
  {
   "cell_type": "code",
   "execution_count": null,
   "metadata": {},
   "outputs": [],
   "source": [
    "def mf(path,encodings = ['utf-8', 'gbk']):\n",
    "    data = pd.DataFrame() # 建立一个空的dataFrame\n",
    "    files = os.listdir(path)    # 读取文件列表\n",
    "    print(files)\n",
    "    for file in files:\n",
    "        file_type = file.split('.')[-1] # 获取文件后缀\n",
    "        if file_type == 'xls' or file_type == 'xlsx':   # 判断后缀\n",
    "            data_son = pd.read_excel(path+'\\\\'+file)\n",
    "            data = pd.concat([data,data_son],axis=0,ignore_index=True)\n",
    "        elif file_type == 'csv':\n",
    "            for ed in encodings:\n",
    "                try:\n",
    "                    path_file = file_path+'\\\\'+file\n",
    "                    print(path_file)\n",
    "                    print(ed)\n",
    "                    data_son = pd.read_csv(path_file, encoding=ed)\n",
    "                    data = pd.concat([data,data_son],axis=0,ignore_index=True)\n",
    "                    continue\n",
    "                except UnicodeDecodeError:\n",
    "                    continue\n",
    "            raise Exception(\"无法使用给定的编码列表解码文件\")\n",
    "    return data"
   ]
  },
  {
   "cell_type": "code",
   "execution_count": null,
   "metadata": {},
   "outputs": [],
   "source": [
    "file_path = \"e:\\\\年度医保基础数据\\\\2024年\"\n",
    "df = mf(file_path)"
   ]
  },
  {
   "cell_type": "code",
   "execution_count": null,
   "metadata": {},
   "outputs": [],
   "source": [
    "class Imcn:\n",
    "    def __init__(self, a, b, c):\n",
    "        self.a = a\n",
    "        self.b = b\n",
    "        self.c = c\n",
    "\n",
    "    def sum(self):\n",
    "        return self.a + self.b + self.c\n",
    "    \n",
    "    def mb(self):\n",
    "        return self.a * self.b * self.c\n",
    "imcn = Imcn(1,2,3)\n",
    "imcn.mb()"
   ]
  }
 ],
 "metadata": {
  "kernelspec": {
   "display_name": "Python 3",
   "language": "python",
   "name": "python3"
  },
  "language_info": {
   "codemirror_mode": {
    "name": "ipython",
    "version": 3
   },
   "file_extension": ".py",
   "mimetype": "text/x-python",
   "name": "python",
   "nbconvert_exporter": "python",
   "pygments_lexer": "ipython3",
   "version": "3.12.2"
  }
 },
 "nbformat": 4,
 "nbformat_minor": 2
}
